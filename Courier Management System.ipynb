{
 "cells": [
  {
   "cell_type": "markdown",
   "id": "700b9ca8",
   "metadata": {},
   "source": [
    "##### Q1. Create a Dictionary of lists to store the information of shipments given in the table"
   ]
  },
  {
   "cell_type": "code",
   "execution_count": 26,
   "id": "9454bb54",
   "metadata": {},
   "outputs": [
    {
     "name": "stdout",
     "output_type": "stream",
     "text": [
      "Shipment Information: \n",
      "\n",
      "\n"
     ]
    },
    {
     "data": {
      "text/plain": [
       "{101: [1, 3, '14-03-2020', '25-03-2020', 'Area1', 'Area6', 'Delivered', 198],\n",
       " 102: [4, 1, '18-06-2020', '09-07-2020', 'Area2', 'Area4', 'Delivered', 275],\n",
       " 103: [2, 3, '01-12-2020', 'Null', 'Area5', 'Area1', 'In-Transit', 200],\n",
       " 104: [1, 5, '23-06-2020', '25-06-2020', 'Area1', 'Area4', 'Delivered', 314],\n",
       " 105: [3, 4, '29-08-2020', '10-09-2020', 'Area5', 'Area3', 'Delivered', 275],\n",
       " 106: [5, 2, '28-09-2020', 'Null', 'Area3', 'Area1', 'In-Transit', 270]}"
      ]
     },
     "execution_count": 26,
     "metadata": {},
     "output_type": "execute_result"
    }
   ],
   "source": [
    "shipment_info = { 101: [1,3,'14-03-2020','25-03-2020','Area1','Area6','Delivered',198], \n",
    "         102: [4 ,1,'18-06-2020','09-07-2020','Area2','Area4','Delivered',275],\n",
    "         103: [2,3,'01-12-2020','Null','Area5','Area1','In-Transit',200],\n",
    "         104: [1,5,'23-06-2020','25-06-2020','Area1','Area4','Delivered',314],\n",
    "         105: [3,4,'29-08-2020','10-09-2020','Area5','Area3','Delivered',275],\n",
    "         106: [5,2,'28-09-2020','Null','Area3','Area1','In-Transit',270] }\n",
    "\n",
    "print('''Shipment Information: \n",
    "\\n''')\n",
    "\n",
    "shipment_info"
   ]
  },
  {
   "cell_type": "markdown",
   "id": "ffd40bc0",
   "metadata": {},
   "source": [
    "##### Q2. Create a Dictionary of to store the information of clients given in the table."
   ]
  },
  {
   "cell_type": "code",
   "execution_count": 27,
   "id": "843f7631",
   "metadata": {},
   "outputs": [
    {
     "name": "stdout",
     "output_type": "stream",
     "text": [
      "Client details:  {1: 'Phillip', 2: 'Omega III', 3: 'Ramya', 4: 'Romesh', 5: 'John'}\n"
     ]
    }
   ],
   "source": [
    "client_info = {1:'Phillip',2:'Omega III',3:'Ramya',4:'Romesh',5:'John'}\n",
    "\n",
    "print(\"Client details: \", client_info)"
   ]
  },
  {
   "cell_type": "markdown",
   "id": "1925d571",
   "metadata": {},
   "source": [
    "##### Q3. Write a code to replace client’s id with their respective name in shipment dictionary using a loop and dictionary comprehension"
   ]
  },
  {
   "cell_type": "code",
   "execution_count": 15,
   "id": "e0e7cedf",
   "metadata": {},
   "outputs": [
    {
     "data": {
      "text/plain": [
       "{101: ['Phillip',\n",
       "  'Ramya',\n",
       "  '14-03-2020',\n",
       "  '25-03-2020',\n",
       "  'Area1',\n",
       "  'Area6',\n",
       "  'Delivered',\n",
       "  198],\n",
       " 102: ['Romesh',\n",
       "  'Phillip',\n",
       "  '18-06-2020',\n",
       "  '09-07-2020',\n",
       "  'Area2',\n",
       "  'Area4',\n",
       "  'Delivered',\n",
       "  275],\n",
       " 103: ['Omega III',\n",
       "  'Ramya',\n",
       "  '01-12-2020',\n",
       "  'Null',\n",
       "  'Area5',\n",
       "  'Area1',\n",
       "  'In-Transit',\n",
       "  200],\n",
       " 104: ['Phillip',\n",
       "  'John',\n",
       "  '23-06-2020',\n",
       "  '25-06-2020',\n",
       "  'Area1',\n",
       "  'Area4',\n",
       "  'Delivered',\n",
       "  314],\n",
       " 105: ['Ramya',\n",
       "  'Romesh',\n",
       "  '29-08-2020',\n",
       "  '10-09-2020',\n",
       "  'Area5',\n",
       "  'Area3',\n",
       "  'Delivered',\n",
       "  275],\n",
       " 106: ['John',\n",
       "  'Omega III',\n",
       "  '28-09-2020',\n",
       "  'Null',\n",
       "  'Area3',\n",
       "  'Area1',\n",
       "  'In-Transit',\n",
       "  270]}"
      ]
     },
     "execution_count": 15,
     "metadata": {},
     "output_type": "execute_result"
    }
   ],
   "source": [
    "#USING LOOP\n",
    "\n",
    "for i in shipment_info:\n",
    "    x,y = shipment_info[i][0],shipment_info[i][1]\n",
    "    shipment_info[i][0] = client_info[x]\n",
    "    shipment_info[i][1] = client_info[y]\n",
    "\n",
    "shipment_info"
   ]
  },
  {
   "cell_type": "code",
   "execution_count": 16,
   "id": "5a402fcb",
   "metadata": {},
   "outputs": [
    {
     "data": {
      "text/plain": [
       "{101: ['Phillip',\n",
       "  'Ramya',\n",
       "  '14-03-2020',\n",
       "  '25-03-2020',\n",
       "  'Area1',\n",
       "  'Area6',\n",
       "  'Delivered'],\n",
       " 102: ['Romesh',\n",
       "  'Phillip',\n",
       "  '18-06-2020',\n",
       "  '09-07-2020',\n",
       "  'Area2',\n",
       "  'Area4',\n",
       "  'Delivered'],\n",
       " 103: ['Omega III',\n",
       "  'Ramya',\n",
       "  '01-12-2020',\n",
       "  'Null',\n",
       "  'Area5',\n",
       "  'Area1',\n",
       "  'In-Transit'],\n",
       " 104: ['Phillip',\n",
       "  'John',\n",
       "  '23-06-2020',\n",
       "  '25-06-2020',\n",
       "  'Area1',\n",
       "  'Area4',\n",
       "  'Delivered'],\n",
       " 105: ['Ramya',\n",
       "  'Romesh',\n",
       "  '29-08-2020',\n",
       "  '10-09-2020',\n",
       "  'Area5',\n",
       "  'Area3',\n",
       "  'Delivered'],\n",
       " 106: ['John',\n",
       "  'Omega III',\n",
       "  '28-09-2020',\n",
       "  'Null',\n",
       "  'Area3',\n",
       "  'Area1',\n",
       "  'In-Transit']}"
      ]
     },
     "execution_count": 16,
     "metadata": {},
     "output_type": "execute_result"
    }
   ],
   "source": [
    "#USING DICTIONARY COMPREHENSION\n",
    "\n",
    "shipment_info = { 101: [1,3,'14-03-2020','25-03-2020','Area1','Area6','Delivered',198], \n",
    "         102: [4 ,1,'18-06-2020','09-07-2020','Area2','Area4','Delivered',275],\n",
    "         103: [2,3,'01-12-2020','Null','Area5','Area1','In-Transit',200],\n",
    "         104: [1,5,'23-06-2020','25-06-2020','Area1','Area4','Delivered',314],\n",
    "         105: [3,4,'29-08-2020','10-09-2020','Area5','Area3','Delivered',275],\n",
    "         106: [5,2,'28-09-2020','Null','Area3','Area1','In-Transit',270] }\n",
    "\n",
    "\n",
    "shipment_info_x = {i: [client_info[shipment_info[i][0]],client_info[shipment_info[i][1]],shipment_info[i][2],shipment_info[i][3],shipment_info[i][4],shipment_info[i][5],shipment_info[i][6]] for i in shipment_info} \n",
    "\n",
    "shipment_info_x"
   ]
  },
  {
   "cell_type": "markdown",
   "id": "e94e69a3",
   "metadata": {},
   "source": [
    "##### Q4. Print all shipment details that are sent by Phillip"
   ]
  },
  {
   "cell_type": "code",
   "execution_count": 28,
   "id": "86fa85c6",
   "metadata": {},
   "outputs": [
    {
     "name": "stdout",
     "output_type": "stream",
     "text": [
      "Details of shipments sent by Phillip: \n",
      "\n",
      "['Phillip', 'Ramya', '14-03-2020', '25-03-2020', 'Area1', 'Area6', 'Delivered', 198]\n",
      "['Phillip', 'John', '23-06-2020', '25-06-2020', 'Area1', 'Area4', 'Delivered', 314]\n"
     ]
    }
   ],
   "source": [
    "shipment_info = { 101: [1,3,'14-03-2020','25-03-2020','Area1','Area6','Delivered',198], \n",
    "         102: [4 ,1,'18-06-2020','09-07-2020','Area2','Area4','Delivered',275],\n",
    "         103: [2,3,'01-12-2020','Null','Area5','Area1','In-Transit',200],\n",
    "         104: [1,5,'23-06-2020','25-06-2020','Area1','Area4','Delivered',314],\n",
    "         105: [3,4,'29-08-2020','10-09-2020','Area5','Area3','Delivered',275],\n",
    "         106: [5,2,'28-09-2020','Null','Area3','Area1','In-Transit',270] }\n",
    "\n",
    "\n",
    "client_info = {1:'Phillip',2:'Omega III',3:'Ramya',4:'Romesh',5:'John'}\n",
    "\n",
    "print(\"Details of shipments sent by Phillip: \\n\")\n",
    "\n",
    "for i in shipment_info:\n",
    "    x,y = shipment_info[i][0],shipment_info[i][1]\n",
    "    shipment_info[i][0] = client_info[x]\n",
    "    shipment_info[i][1] = client_info[y]\n",
    "    if (shipment_info[i][0] == 'Phillip'):\n",
    "        print(shipment_info[i])"
   ]
  },
  {
   "cell_type": "markdown",
   "id": "44140b06",
   "metadata": {},
   "source": [
    "##### Q5. Print all shipment details that are received by Ramya"
   ]
  },
  {
   "cell_type": "code",
   "execution_count": 29,
   "id": "58f3c029",
   "metadata": {},
   "outputs": [
    {
     "name": "stdout",
     "output_type": "stream",
     "text": [
      "Details of shipments received by Ramya: \n",
      "\n",
      "['Phillip', 'Ramya', '14-03-2020', '25-03-2020', 'Area1', 'Area6', 'Delivered', 198]\n",
      "['Omega III', 'Ramya', '01-12-2020', 'Null', 'Area5', 'Area1', 'In-Transit', 200]\n"
     ]
    }
   ],
   "source": [
    "shipment_info = { 101: [1,3,'14-03-2020','25-03-2020','Area1','Area6','Delivered',198], \n",
    "         102: [4 ,1,'18-06-2020','09-07-2020','Area2','Area4','Delivered',275],\n",
    "         103: [2,3,'01-12-2020','Null','Area5','Area1','In-Transit',200],\n",
    "         104: [1,5,'23-06-2020','25-06-2020','Area1','Area4','Delivered',314],\n",
    "         105: [3,4,'29-08-2020','10-09-2020','Area5','Area3','Delivered',275],\n",
    "         106: [5,2,'28-09-2020','Null','Area3','Area1','In-Transit',270] }\n",
    "\n",
    "\n",
    "client_info = {1:'Phillip',2:'Omega III',3:'Ramya',4:'Romesh',5:'John'}\n",
    "\n",
    "print(\"Details of shipments received by Ramya: \\n\")\n",
    "\n",
    "for i in shipment_info:\n",
    "    x,y = shipment_info[i][0],shipment_info[i][1]\n",
    "    shipment_info[i][0] = client_info[x]\n",
    "    shipment_info[i][1] = client_info[y]\n",
    "    if (shipment_info[i][1] == 'Ramya'):\n",
    "        print(shipment_info[i])"
   ]
  },
  {
   "cell_type": "markdown",
   "id": "0392a8ae",
   "metadata": {},
   "source": [
    "##### Q6. Print all shipments which are in 'In-Transit' status"
   ]
  },
  {
   "cell_type": "code",
   "execution_count": 31,
   "id": "362d3b82",
   "metadata": {},
   "outputs": [
    {
     "name": "stdout",
     "output_type": "stream",
     "text": [
      "Details of shipments in In-Transit status: \n",
      "\n",
      "['Omega III', 'Ramya', '01-12-2020', 'Null', 'Area5', 'Area1', 'In-Transit', 200]\n",
      "['John', 'Omega III', '28-09-2020', 'Null', 'Area3', 'Area1', 'In-Transit', 270]\n"
     ]
    }
   ],
   "source": [
    "print(\"Details of shipments in In-Transit status: \\n\")\n",
    "\n",
    "for i in shipment_info:\n",
    "    if (shipment_info[i][6] == 'In-Transit'):\n",
    "        print(shipment_info[i])"
   ]
  },
  {
   "cell_type": "markdown",
   "id": "a350942a",
   "metadata": {},
   "source": [
    "##### Q7. Print all shipments which are delivered within 7 days of courier Start date"
   ]
  },
  {
   "cell_type": "code",
   "execution_count": 41,
   "id": "77682669",
   "metadata": {},
   "outputs": [
    {
     "name": "stdout",
     "output_type": "stream",
     "text": [
      "Details of shipments which were delivered within 7 days: \n",
      "\n",
      "['Phillip', 'John', '23-06-2020', '25-06-2020', 'Area1', 'Area4', 'Delivered', 314]\n"
     ]
    }
   ],
   "source": [
    "import datetime as d\n",
    "\n",
    "print(\"Details of shipments which were delivered within 7 days: \\n\")\n",
    "\n",
    "for i in shipment_info:\n",
    "    if (shipment_info[i][3] != 'Null'):\n",
    "        start_date = d.datetime.strptime(shipment_info[i][2], \"%d-%m-%Y\")\n",
    "        delivery_date = d.datetime.strptime(shipment_info[i][3], \"%d-%m-%Y\")\n",
    "        if (delivery_date-start_date)<= dt.timedelta(days=7):\n",
    "            print(shipment_info[i])"
   ]
  },
  {
   "cell_type": "markdown",
   "id": "eb01ee64",
   "metadata": {},
   "source": [
    "##### Q8. Print all shipments which are delivered after 15 days of courier start date or not yet been delivered."
   ]
  },
  {
   "cell_type": "code",
   "execution_count": 40,
   "id": "b87d8af2",
   "metadata": {},
   "outputs": [
    {
     "name": "stdout",
     "output_type": "stream",
     "text": [
      "Details of shipments which were delivered after 15 days and those that are not yet delivered: \n",
      "\n",
      "['Romesh', 'Phillip', '18-06-2020', '09-07-2020', 'Area2', 'Area4', 'Delivered', 275]\n",
      "['Omega III', 'Ramya', '01-12-2020', 'Null', 'Area5', 'Area1', 'In-Transit', 200]\n",
      "['John', 'Omega III', '28-09-2020', 'Null', 'Area3', 'Area1', 'In-Transit', 270]\n"
     ]
    }
   ],
   "source": [
    "import datetime as dt\n",
    "\n",
    "print(\"Details of shipments which were delivered after 15 days and those that are not yet delivered: \\n\")\n",
    "\n",
    "for i in shipment_info:\n",
    "    if (shipment_info[i][3] == 'Null'):\n",
    "        print(shipment_info[i])\n",
    "    else:\n",
    "        start_date = dt.datetime.strptime(shipment_info[i][2], \"%d-%m-%Y\")\n",
    "        delivery_date = dt.datetime.strptime(shipment_info[i][3], \"%d-%m-%Y\")\n",
    "        if (delivery_date-start_date) > dt.timedelta(days = 15):\n",
    "            print(shipment_info[i])"
   ]
  },
  {
   "cell_type": "markdown",
   "id": "e0cbf3ff",
   "metadata": {},
   "source": [
    "##### Q9. Write a function find_all_routes to display all possible routes from senders location to receivers location given in the dictionary for each shipment.¶"
   ]
  },
  {
   "cell_type": "code",
   "execution_count": 22,
   "id": "26566013",
   "metadata": {},
   "outputs": [],
   "source": [
    "def find_all_routes(matrix,x,y,visited,path):     \n",
    "        visited[x]= True\n",
    "        path.append(x+1) \n",
    "        if x == y: \n",
    "            print(path) \n",
    "        else: \n",
    "             for i in range(6):\n",
    "                if matrix[x][i] == 1 and (visited[i]== False): \n",
    "                    find_all_routes(matrix,i, y, visited, path) \n",
    "        path.pop() \n",
    "        visited[x]= False\n",
    "   \n",
    "   \n",
    "matrix = [[0,1,0,0,0,1],[1,0,1,1,0,0],[0,1,0,1,0,0],[0,1,1,0,1,0],[0,0,0,1,0,0],[1,0,0,0,0,0]]\n",
    "visited=[False for i in range(6)]\n",
    "path = []"
   ]
  },
  {
   "cell_type": "code",
   "execution_count": 42,
   "id": "250afda3",
   "metadata": {},
   "outputs": [
    {
     "name": "stdout",
     "output_type": "stream",
     "text": [
      "All possible routes from senders location to receivers location for the shipments are: \n",
      "\n",
      "Shipment Id:  101\n",
      "Sender's Location:  1\n",
      "Receiver's Location:  6\n",
      "All possible routes: \n",
      "[1, 6]\n",
      "***************************************\n",
      "Shipment Id:  102\n",
      "Sender's Location:  2\n",
      "Receiver's Location:  4\n",
      "All possible routes: \n",
      "[2, 3, 4]\n",
      "[2, 4]\n",
      "***************************************\n",
      "Shipment Id:  103\n",
      "Sender's Location:  5\n",
      "Receiver's Location:  1\n",
      "All possible routes: \n",
      "[5, 4, 2, 1]\n",
      "[5, 4, 3, 2, 1]\n",
      "***************************************\n",
      "Shipment Id:  104\n",
      "Sender's Location:  1\n",
      "Receiver's Location:  4\n",
      "All possible routes: \n",
      "[1, 2, 3, 4]\n",
      "[1, 2, 4]\n",
      "***************************************\n",
      "Shipment Id:  105\n",
      "Sender's Location:  5\n",
      "Receiver's Location:  3\n",
      "All possible routes: \n",
      "[5, 4, 2, 3]\n",
      "[5, 4, 3]\n",
      "***************************************\n",
      "Shipment Id:  106\n",
      "Sender's Location:  3\n",
      "Receiver's Location:  1\n",
      "All possible routes: \n",
      "[3, 2, 1]\n",
      "[3, 4, 2, 1]\n",
      "***************************************\n"
     ]
    }
   ],
   "source": [
    "def display(shipment_info):\n",
    "    for i in shipment_info:\n",
    "        print(\"Shipment Id: \",i)\n",
    "        a = int(shipment_info[i][4][-1])\n",
    "        print(\"Sender's Location: \" , a)\n",
    "        b = int(shipment_info[i][5][-1])\n",
    "        print(\"Receiver's Location: \" , b)\n",
    "        print(\"All possible routes: \")\n",
    "        find_all_routes(matrix,a-1,b-1,visited,path)\n",
    "        print('***************************************')\n",
    "\n",
    "print(\"All possible routes from senders location to receivers location for the shipments are: \\n\")\n",
    "display(shipment_info)"
   ]
  },
  {
   "cell_type": "code",
   "execution_count": null,
   "id": "61d8416c",
   "metadata": {},
   "outputs": [],
   "source": []
  }
 ],
 "metadata": {
  "kernelspec": {
   "display_name": "Python 3",
   "language": "python",
   "name": "python3"
  },
  "language_info": {
   "codemirror_mode": {
    "name": "ipython",
    "version": 3
   },
   "file_extension": ".py",
   "mimetype": "text/x-python",
   "name": "python",
   "nbconvert_exporter": "python",
   "pygments_lexer": "ipython3",
   "version": "3.8.8"
  }
 },
 "nbformat": 4,
 "nbformat_minor": 5
}
